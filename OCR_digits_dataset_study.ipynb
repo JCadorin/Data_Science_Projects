{
 "cells": [
  {
   "cell_type": "markdown",
   "metadata": {},
   "source": [
    "# Importing modules"
   ]
  },
  {
   "cell_type": "code",
   "execution_count": 34,
   "metadata": {},
   "outputs": [],
   "source": [
    "import numpy as np\n",
    "import pandas as pd\n",
    "from matplotlib import pyplot as plt\n",
    "from sklearn import datasets\n",
    "from sklearn import metrics\n",
    "from sklearn.metrics import mean_squared_error\n",
    "from sklearn.model_selection import train_test_split\n",
    "from sklearn.model_selection import cross_val_score\n",
    "from sklearn.model_selection import GridSearchCV\n",
    "from sklearn.model_selection import KFold\n",
    "from sklearn.linear_model import LogisticRegression\n",
    "from sklearn.model_selection import GridSearchCV\n",
    "from sklearn.model_selection import StratifiedKFold\n",
    "from sklearn.ensemble import GradientBoostingClassifier\n",
    "from sklearn import datasets, svm, metrics\n",
    "from sklearn.model_selection import train_test_split\n",
    "from sklearn.metrics import classification_report \n"
   ]
  },
  {
   "cell_type": "markdown",
   "metadata": {},
   "source": [
    "## Load Dataset\n"
   ]
  },
  {
   "cell_type": "code",
   "execution_count": 35,
   "metadata": {},
   "outputs": [
    {
     "data": {
      "image/png": "[encoded data removed]",
      "text/plain": [
       "<Figure size 720x216 with 4 Axes>"
      ]
     },
     "metadata": {
      "needs_background": "light"
     },
     "output_type": "display_data"
    }
   ],
   "source": [
    "digits = datasets.load_digits()\n",
    "\n",
    "_, axes = plt.subplots(nrows=1, ncols=4, figsize=(10, 3))\n",
    "for ax, image, label in zip(axes, digits.images, digits.target):\n",
    "    ax.set_axis_off()\n",
    "    ax.imshow(image, cmap=plt.cm.gray_r, interpolation=\"nearest\")\n",
    "    ax.set_title(\"Training: %i\" % label)"
   ]
  },
  {
   "cell_type": "markdown",
   "metadata": {},
   "source": [
    "# Processing Data"
   ]
  },
  {
   "cell_type": "code",
   "execution_count": 36,
   "metadata": {},
   "outputs": [],
   "source": [
    "# flatten the images\n",
    "n_samples = len(digits.images)\n",
    "data = digits.images.reshape((n_samples, -1))\n",
    "\n",
    "# Create a classifier: a support vector classifier\n",
    "clf = svm.SVC(gamma=0.001)\n"
   ]
  },
  {
   "cell_type": "code",
   "execution_count": 38,
   "metadata": {},
   "outputs": [],
   "source": [
    "# Split data into 50% train and 50% test subsets\n",
    "X_train, X_test, y_train, y_test = train_test_split(\n",
    "    data, digits.target, test_size=0.5, shuffle=False\n",
    ")"
   ]
  },
  {
   "cell_type": "markdown",
   "metadata": {},
   "source": [
    "## Training the model"
   ]
  },
  {
   "cell_type": "code",
   "execution_count": 39,
   "metadata": {},
   "outputs": [
    {
     "name": "stdout",
     "output_type": "stream",
     "text": [
      "Accuracy: 0.9688542825361512\n"
     ]
    }
   ],
   "source": [
    "# Learn the digits on the train subset\n",
    "clf.fit(X_train, y_train)\n",
    "\n",
    "# Predict the value of the digit on the test subset\n",
    "predicted = clf.predict(X_test)\n",
    "print(\"Accuracy:\",metrics.accuracy_score(y_test, predicted))"
   ]
  },
  {
   "cell_type": "code",
   "execution_count": 53,
   "metadata": {},
   "outputs": [
    {
     "name": "stdout",
     "output_type": "stream",
     "text": [
      "[ 0.  0.  1. 11. 14. 15.  3.  0.  0.  1. 13. 16. 12. 16.  8.  0.  0.  8.\n",
      " 16.  4.  6. 16.  5.  0.  0.  5. 15. 11. 13. 14.  0.  0.  0.  0.  2. 12.\n",
      " 16. 13.  0.  0.  0.  0.  0. 13. 16. 16.  6.  0.  0.  0.  0. 16. 16. 16.\n",
      "  7.  0.  0.  0.  0. 11. 13. 12.  1.  0.]\n",
      "8\n",
      "[ 0.  0.  6. 14. 16.  5.  0.  0.  0.  2. 16. 16. 16.  7.  0.  0.  0.  2.\n",
      " 15. 16. 15.  2.  0.  0.  0.  0.  6. 16. 15.  7.  0.  0.  0.  0. 14. 10.\n",
      "  6. 16.  3.  0.  0.  1. 16.  3.  0. 16.  7.  0.  0.  0. 10. 11. 11. 15.\n",
      "  3.  0.  0.  0.  3. 14. 16.  6.  0.  0.]\n",
      "8\n",
      "[ 0.  0.  0.  4. 15.  6.  0.  0.  0.  0.  0. 13. 13.  1.  0.  0.  0.  0.\n",
      "  7. 16.  2.  0.  0.  0.  0.  4. 15.  8.  0.  5.  0.  0.  0. 11. 14.  1.\n",
      "  6. 16.  5.  0.  1. 16. 14. 12. 16. 16.  3.  0.  0. 10. 12. 10. 16. 10.\n",
      "  0.  0.  0.  0.  0.  6. 16.  2.  0.  0.]\n",
      "4\n",
      "[ 0.  0.  1.  9. 15. 11.  3.  0.  0.  0. 12.  9.  1. 11.  6.  0.  0.  0.\n",
      " 13.  7.  6. 16.  8.  0.  0.  0.  4. 10. 12. 15.  4.  0.  0.  0.  0.  0.\n",
      "  0. 12.  6.  0.  0.  8.  7.  0.  0. 15.  5.  0.  0.  1. 12. 10.  4. 16.\n",
      "  3.  0.  0.  0.  0. 13. 16.  8.  0.  0.]\n",
      "9\n"
     ]
    },
    {
     "data": {
      "image/png": "[encoded data removed]",
      "text/plain": [
       "<Figure size 720x216 with 4 Axes>"
      ]
     },
     "metadata": {
      "needs_background": "light"
     },
     "output_type": "display_data"
    }
   ],
   "source": [
    "#Plotting some predictions to visualize how the model works\n",
    "_, axes = plt.subplots(nrows=1, ncols=4, figsize=(10, 3))\n",
    "for ax, image, prediction in zip(axes, X_test, predicted):\n",
    "    print(image)\n",
    "    print(prediction)\n",
    "    ax.set_axis_off()\n",
    "    image = image.reshape(8, 8)\n",
    "    ax.imshow(image, cmap=plt.cm.gray_r, interpolation=\"nearest\")\n",
    "    ax.set_title(f\"Prediction: {prediction}\")"
   ]
  },
  {
   "cell_type": "markdown",
   "metadata": {},
   "source": [
    "## Finding a great regularization using cross validation"
   ]
  },
  {
   "cell_type": "code",
   "execution_count": 41,
   "metadata": {},
   "outputs": [
    {
     "name": "stdout",
     "output_type": "stream",
     "text": [
      "Fitting 5 folds for each of 48 candidates, totalling 240 fits\n",
      "[CV] END .........................C=0.1, gamma=1, kernel=rbf; total time=   0.1s\n",
      "[CV] END .........................C=0.1, gamma=1, kernel=rbf; total time=   0.1s\n",
      "[CV] END .........................C=0.1, gamma=1, kernel=rbf; total time=   0.1s\n",
      "[CV] END .........................C=0.1, gamma=1, kernel=rbf; total time=   0.1s\n",
      "[CV] END .........................C=0.1, gamma=1, kernel=rbf; total time=   0.1s\n",
      "[CV] END ........................C=0.1, gamma=1, kernel=poly; total time=   0.0s\n",
      "[CV] END ........................C=0.1, gamma=1, kernel=poly; total time=   0.0s\n",
      "[CV] END ........................C=0.1, gamma=1, kernel=poly; total time=   0.0s\n",
      "[CV] END ........................C=0.1, gamma=1, kernel=poly; total time=   0.0s\n",
      "[CV] END ........................C=0.1, gamma=1, kernel=poly; total time=   0.0s\n",
      "[CV] END .....................C=0.1, gamma=1, kernel=sigmoid; total time=   0.1s\n",
      "[CV] END .....................C=0.1, gamma=1, kernel=sigmoid; total time=   0.1s\n",
      "[CV] END .....................C=0.1, gamma=1, kernel=sigmoid; total time=   0.1s\n",
      "[CV] END .....................C=0.1, gamma=1, kernel=sigmoid; total time=   0.1s\n",
      "[CV] END .....................C=0.1, gamma=1, kernel=sigmoid; total time=   0.1s\n",
      "[CV] END .......................C=0.1, gamma=0.1, kernel=rbf; total time=   0.1s\n",
      "[CV] END .......................C=0.1, gamma=0.1, kernel=rbf; total time=   0.1s\n",
      "[CV] END .......................C=0.1, gamma=0.1, kernel=rbf; total time=   0.1s\n",
      "[CV] END .......................C=0.1, gamma=0.1, kernel=rbf; total time=   0.1s\n",
      "[CV] END .......................C=0.1, gamma=0.1, kernel=rbf; total time=   0.2s\n",
      "[CV] END ......................C=0.1, gamma=0.1, kernel=poly; total time=   0.0s\n",
      "[CV] END ......................C=0.1, gamma=0.1, kernel=poly; total time=   0.0s\n",
      "[CV] END ......................C=0.1, gamma=0.1, kernel=poly; total time=   0.0s\n",
      "[CV] END ......................C=0.1, gamma=0.1, kernel=poly; total time=   0.0s\n",
      "[CV] END ......................C=0.1, gamma=0.1, kernel=poly; total time=   0.0s\n",
      "[CV] END ...................C=0.1, gamma=0.1, kernel=sigmoid; total time=   0.1s\n",
      "[CV] END ...................C=0.1, gamma=0.1, kernel=sigmoid; total time=   0.1s\n",
      "[CV] END ...................C=0.1, gamma=0.1, kernel=sigmoid; total time=   0.1s\n",
      "[CV] END ...................C=0.1, gamma=0.1, kernel=sigmoid; total time=   0.1s\n",
      "[CV] END ...................C=0.1, gamma=0.1, kernel=sigmoid; total time=   0.1s\n",
      "[CV] END ......................C=0.1, gamma=0.01, kernel=rbf; total time=   0.1s\n",
      "[CV] END ......................C=0.1, gamma=0.01, kernel=rbf; total time=   0.1s\n",
      "[CV] END ......................C=0.1, gamma=0.01, kernel=rbf; total time=   0.1s\n",
      "[CV] END ......................C=0.1, gamma=0.01, kernel=rbf; total time=   0.1s\n",
      "[CV] END ......................C=0.1, gamma=0.01, kernel=rbf; total time=   0.1s\n",
      "[CV] END .....................C=0.1, gamma=0.01, kernel=poly; total time=   0.0s\n",
      "[CV] END .....................C=0.1, gamma=0.01, kernel=poly; total time=   0.0s\n",
      "[CV] END .....................C=0.1, gamma=0.01, kernel=poly; total time=   0.0s\n",
      "[CV] END .....................C=0.1, gamma=0.01, kernel=poly; total time=   0.0s\n",
      "[CV] END .....................C=0.1, gamma=0.01, kernel=poly; total time=   0.0s\n",
      "[CV] END ..................C=0.1, gamma=0.01, kernel=sigmoid; total time=   0.1s\n",
      "[CV] END ..................C=0.1, gamma=0.01, kernel=sigmoid; total time=   0.1s\n",
      "[CV] END ..................C=0.1, gamma=0.01, kernel=sigmoid; total time=   0.1s\n",
      "[CV] END ..................C=0.1, gamma=0.01, kernel=sigmoid; total time=   0.1s\n",
      "[CV] END ..................C=0.1, gamma=0.01, kernel=sigmoid; total time=   0.1s\n",
      "[CV] END .....................C=0.1, gamma=0.001, kernel=rbf; total time=   0.1s\n",
      "[CV] END .....................C=0.1, gamma=0.001, kernel=rbf; total time=   0.1s\n",
      "[CV] END .....................C=0.1, gamma=0.001, kernel=rbf; total time=   0.1s\n",
      "[CV] END .....................C=0.1, gamma=0.001, kernel=rbf; total time=   0.1s\n",
      "[CV] END .....................C=0.1, gamma=0.001, kernel=rbf; total time=   0.1s\n",
      "[CV] END ....................C=0.1, gamma=0.001, kernel=poly; total time=   0.0s\n",
      "[CV] END ....................C=0.1, gamma=0.001, kernel=poly; total time=   0.0s\n",
      "[CV] END ....................C=0.1, gamma=0.001, kernel=poly; total time=   0.0s\n",
      "[CV] END ....................C=0.1, gamma=0.001, kernel=poly; total time=   0.0s\n",
      "[CV] END ....................C=0.1, gamma=0.001, kernel=poly; total time=   0.0s\n",
      "[CV] END .................C=0.1, gamma=0.001, kernel=sigmoid; total time=   0.1s\n",
      "[CV] END .................C=0.1, gamma=0.001, kernel=sigmoid; total time=   0.1s\n",
      "[CV] END .................C=0.1, gamma=0.001, kernel=sigmoid; total time=   0.1s\n",
      "[CV] END .................C=0.1, gamma=0.001, kernel=sigmoid; total time=   0.1s\n",
      "[CV] END .................C=0.1, gamma=0.001, kernel=sigmoid; total time=   0.1s\n",
      "[CV] END ...........................C=1, gamma=1, kernel=rbf; total time=   0.1s\n",
      "[CV] END ...........................C=1, gamma=1, kernel=rbf; total time=   0.1s\n",
      "[CV] END ...........................C=1, gamma=1, kernel=rbf; total time=   0.1s\n",
      "[CV] END ...........................C=1, gamma=1, kernel=rbf; total time=   0.1s\n",
      "[CV] END ...........................C=1, gamma=1, kernel=rbf; total time=   0.1s\n",
      "[CV] END ..........................C=1, gamma=1, kernel=poly; total time=   0.0s\n",
      "[CV] END ..........................C=1, gamma=1, kernel=poly; total time=   0.0s\n",
      "[CV] END ..........................C=1, gamma=1, kernel=poly; total time=   0.0s\n",
      "[CV] END ..........................C=1, gamma=1, kernel=poly; total time=   0.0s\n",
      "[CV] END ..........................C=1, gamma=1, kernel=poly; total time=   0.0s\n",
      "[CV] END .......................C=1, gamma=1, kernel=sigmoid; total time=   0.1s\n",
      "[CV] END .......................C=1, gamma=1, kernel=sigmoid; total time=   0.1s\n",
      "[CV] END .......................C=1, gamma=1, kernel=sigmoid; total time=   0.1s\n",
      "[CV] END .......................C=1, gamma=1, kernel=sigmoid; total time=   0.1s\n",
      "[CV] END .......................C=1, gamma=1, kernel=sigmoid; total time=   0.1s\n",
      "[CV] END .........................C=1, gamma=0.1, kernel=rbf; total time=   0.1s\n",
      "[CV] END .........................C=1, gamma=0.1, kernel=rbf; total time=   0.1s\n",
      "[CV] END .........................C=1, gamma=0.1, kernel=rbf; total time=   0.1s\n",
      "[CV] END .........................C=1, gamma=0.1, kernel=rbf; total time=   0.1s\n",
      "[CV] END .........................C=1, gamma=0.1, kernel=rbf; total time=   0.2s\n",
      "[CV] END ........................C=1, gamma=0.1, kernel=poly; total time=   0.0s\n",
      "[CV] END ........................C=1, gamma=0.1, kernel=poly; total time=   0.0s\n",
      "[CV] END ........................C=1, gamma=0.1, kernel=poly; total time=   0.0s\n",
      "[CV] END ........................C=1, gamma=0.1, kernel=poly; total time=   0.0s\n",
      "[CV] END ........................C=1, gamma=0.1, kernel=poly; total time=   0.0s\n",
      "[CV] END .....................C=1, gamma=0.1, kernel=sigmoid; total time=   0.1s\n",
      "[CV] END .....................C=1, gamma=0.1, kernel=sigmoid; total time=   0.1s\n",
      "[CV] END .....................C=1, gamma=0.1, kernel=sigmoid; total time=   0.1s\n",
      "[CV] END .....................C=1, gamma=0.1, kernel=sigmoid; total time=   0.1s\n",
      "[CV] END .....................C=1, gamma=0.1, kernel=sigmoid; total time=   0.1s\n",
      "[CV] END ........................C=1, gamma=0.01, kernel=rbf; total time=   0.1s\n",
      "[CV] END ........................C=1, gamma=0.01, kernel=rbf; total time=   0.1s\n",
      "[CV] END ........................C=1, gamma=0.01, kernel=rbf; total time=   0.1s\n",
      "[CV] END ........................C=1, gamma=0.01, kernel=rbf; total time=   0.1s\n",
      "[CV] END ........................C=1, gamma=0.01, kernel=rbf; total time=   0.1s\n",
      "[CV] END .......................C=1, gamma=0.01, kernel=poly; total time=   0.0s\n",
      "[CV] END .......................C=1, gamma=0.01, kernel=poly; total time=   0.0s\n",
      "[CV] END .......................C=1, gamma=0.01, kernel=poly; total time=   0.0s\n",
      "[CV] END .......................C=1, gamma=0.01, kernel=poly; total time=   0.0s\n",
      "[CV] END .......................C=1, gamma=0.01, kernel=poly; total time=   0.0s\n",
      "[CV] END ....................C=1, gamma=0.01, kernel=sigmoid; total time=   0.1s\n"
     ]
    },
    {
     "name": "stdout",
     "output_type": "stream",
     "text": [
      "[CV] END ....................C=1, gamma=0.01, kernel=sigmoid; total time=   0.1s\n",
      "[CV] END ....................C=1, gamma=0.01, kernel=sigmoid; total time=   0.1s\n",
      "[CV] END ....................C=1, gamma=0.01, kernel=sigmoid; total time=   0.1s\n",
      "[CV] END ....................C=1, gamma=0.01, kernel=sigmoid; total time=   0.1s\n",
      "[CV] END .......................C=1, gamma=0.001, kernel=rbf; total time=   0.1s\n",
      "[CV] END .......................C=1, gamma=0.001, kernel=rbf; total time=   0.1s\n",
      "[CV] END .......................C=1, gamma=0.001, kernel=rbf; total time=   0.1s\n",
      "[CV] END .......................C=1, gamma=0.001, kernel=rbf; total time=   0.1s\n",
      "[CV] END .......................C=1, gamma=0.001, kernel=rbf; total time=   0.1s\n",
      "[CV] END ......................C=1, gamma=0.001, kernel=poly; total time=   0.0s\n",
      "[CV] END ......................C=1, gamma=0.001, kernel=poly; total time=   0.0s\n",
      "[CV] END ......................C=1, gamma=0.001, kernel=poly; total time=   0.0s\n",
      "[CV] END ......................C=1, gamma=0.001, kernel=poly; total time=   0.0s\n",
      "[CV] END ......................C=1, gamma=0.001, kernel=poly; total time=   0.0s\n",
      "[CV] END ...................C=1, gamma=0.001, kernel=sigmoid; total time=   0.1s\n",
      "[CV] END ...................C=1, gamma=0.001, kernel=sigmoid; total time=   0.1s\n",
      "[CV] END ...................C=1, gamma=0.001, kernel=sigmoid; total time=   0.1s\n",
      "[CV] END ...................C=1, gamma=0.001, kernel=sigmoid; total time=   0.1s\n",
      "[CV] END ...................C=1, gamma=0.001, kernel=sigmoid; total time=   0.1s\n",
      "[CV] END ..........................C=10, gamma=1, kernel=rbf; total time=   0.2s\n",
      "[CV] END ..........................C=10, gamma=1, kernel=rbf; total time=   0.1s\n",
      "[CV] END ..........................C=10, gamma=1, kernel=rbf; total time=   0.1s\n",
      "[CV] END ..........................C=10, gamma=1, kernel=rbf; total time=   0.1s\n",
      "[CV] END ..........................C=10, gamma=1, kernel=rbf; total time=   0.1s\n",
      "[CV] END .........................C=10, gamma=1, kernel=poly; total time=   0.0s\n",
      "[CV] END .........................C=10, gamma=1, kernel=poly; total time=   0.0s\n",
      "[CV] END .........................C=10, gamma=1, kernel=poly; total time=   0.0s\n",
      "[CV] END .........................C=10, gamma=1, kernel=poly; total time=   0.0s\n",
      "[CV] END .........................C=10, gamma=1, kernel=poly; total time=   0.0s\n",
      "[CV] END ......................C=10, gamma=1, kernel=sigmoid; total time=   0.1s\n",
      "[CV] END ......................C=10, gamma=1, kernel=sigmoid; total time=   0.1s\n",
      "[CV] END ......................C=10, gamma=1, kernel=sigmoid; total time=   0.1s\n",
      "[CV] END ......................C=10, gamma=1, kernel=sigmoid; total time=   0.1s\n",
      "[CV] END ......................C=10, gamma=1, kernel=sigmoid; total time=   0.1s\n",
      "[CV] END ........................C=10, gamma=0.1, kernel=rbf; total time=   0.2s\n",
      "[CV] END ........................C=10, gamma=0.1, kernel=rbf; total time=   0.2s\n",
      "[CV] END ........................C=10, gamma=0.1, kernel=rbf; total time=   0.2s\n",
      "[CV] END ........................C=10, gamma=0.1, kernel=rbf; total time=   0.2s\n",
      "[CV] END ........................C=10, gamma=0.1, kernel=rbf; total time=   0.1s\n",
      "[CV] END .......................C=10, gamma=0.1, kernel=poly; total time=   0.0s\n",
      "[CV] END .......................C=10, gamma=0.1, kernel=poly; total time=   0.0s\n",
      "[CV] END .......................C=10, gamma=0.1, kernel=poly; total time=   0.0s\n",
      "[CV] END .......................C=10, gamma=0.1, kernel=poly; total time=   0.0s\n",
      "[CV] END .......................C=10, gamma=0.1, kernel=poly; total time=   0.0s\n",
      "[CV] END ....................C=10, gamma=0.1, kernel=sigmoid; total time=   0.1s\n",
      "[CV] END ....................C=10, gamma=0.1, kernel=sigmoid; total time=   0.1s\n",
      "[CV] END ....................C=10, gamma=0.1, kernel=sigmoid; total time=   0.1s\n",
      "[CV] END ....................C=10, gamma=0.1, kernel=sigmoid; total time=   0.1s\n",
      "[CV] END ....................C=10, gamma=0.1, kernel=sigmoid; total time=   0.1s\n",
      "[CV] END .......................C=10, gamma=0.01, kernel=rbf; total time=   0.2s\n",
      "[CV] END .......................C=10, gamma=0.01, kernel=rbf; total time=   0.1s\n",
      "[CV] END .......................C=10, gamma=0.01, kernel=rbf; total time=   0.2s\n",
      "[CV] END .......................C=10, gamma=0.01, kernel=rbf; total time=   0.1s\n",
      "[CV] END .......................C=10, gamma=0.01, kernel=rbf; total time=   0.2s\n",
      "[CV] END ......................C=10, gamma=0.01, kernel=poly; total time=   0.0s\n",
      "[CV] END ......................C=10, gamma=0.01, kernel=poly; total time=   0.0s\n",
      "[CV] END ......................C=10, gamma=0.01, kernel=poly; total time=   0.0s\n",
      "[CV] END ......................C=10, gamma=0.01, kernel=poly; total time=   0.0s\n",
      "[CV] END ......................C=10, gamma=0.01, kernel=poly; total time=   0.0s\n",
      "[CV] END ...................C=10, gamma=0.01, kernel=sigmoid; total time=   0.1s\n",
      "[CV] END ...................C=10, gamma=0.01, kernel=sigmoid; total time=   0.1s\n",
      "[CV] END ...................C=10, gamma=0.01, kernel=sigmoid; total time=   0.1s\n",
      "[CV] END ...................C=10, gamma=0.01, kernel=sigmoid; total time=   0.1s\n",
      "[CV] END ...................C=10, gamma=0.01, kernel=sigmoid; total time=   0.1s\n",
      "[CV] END ......................C=10, gamma=0.001, kernel=rbf; total time=   0.0s\n",
      "[CV] END ......................C=10, gamma=0.001, kernel=rbf; total time=   0.1s\n",
      "[CV] END ......................C=10, gamma=0.001, kernel=rbf; total time=   0.1s\n",
      "[CV] END ......................C=10, gamma=0.001, kernel=rbf; total time=   0.0s\n",
      "[CV] END ......................C=10, gamma=0.001, kernel=rbf; total time=   0.0s\n",
      "[CV] END .....................C=10, gamma=0.001, kernel=poly; total time=   0.0s\n",
      "[CV] END .....................C=10, gamma=0.001, kernel=poly; total time=   0.0s\n",
      "[CV] END .....................C=10, gamma=0.001, kernel=poly; total time=   0.0s\n",
      "[CV] END .....................C=10, gamma=0.001, kernel=poly; total time=   0.0s\n",
      "[CV] END .....................C=10, gamma=0.001, kernel=poly; total time=   0.0s\n",
      "[CV] END ..................C=10, gamma=0.001, kernel=sigmoid; total time=   0.1s\n",
      "[CV] END ..................C=10, gamma=0.001, kernel=sigmoid; total time=   0.1s\n",
      "[CV] END ..................C=10, gamma=0.001, kernel=sigmoid; total time=   0.1s\n",
      "[CV] END ..................C=10, gamma=0.001, kernel=sigmoid; total time=   0.1s\n",
      "[CV] END ..................C=10, gamma=0.001, kernel=sigmoid; total time=   0.1s\n",
      "[CV] END .........................C=100, gamma=1, kernel=rbf; total time=   0.1s\n",
      "[CV] END .........................C=100, gamma=1, kernel=rbf; total time=   0.1s\n",
      "[CV] END .........................C=100, gamma=1, kernel=rbf; total time=   0.1s\n",
      "[CV] END .........................C=100, gamma=1, kernel=rbf; total time=   0.1s\n",
      "[CV] END .........................C=100, gamma=1, kernel=rbf; total time=   0.1s\n",
      "[CV] END ........................C=100, gamma=1, kernel=poly; total time=   0.0s\n",
      "[CV] END ........................C=100, gamma=1, kernel=poly; total time=   0.0s\n",
      "[CV] END ........................C=100, gamma=1, kernel=poly; total time=   0.0s\n",
      "[CV] END ........................C=100, gamma=1, kernel=poly; total time=   0.0s\n",
      "[CV] END ........................C=100, gamma=1, kernel=poly; total time=   0.0s\n",
      "[CV] END .....................C=100, gamma=1, kernel=sigmoid; total time=   0.1s\n",
      "[CV] END .....................C=100, gamma=1, kernel=sigmoid; total time=   0.1s\n",
      "[CV] END .....................C=100, gamma=1, kernel=sigmoid; total time=   0.1s\n",
      "[CV] END .....................C=100, gamma=1, kernel=sigmoid; total time=   0.1s\n",
      "[CV] END .....................C=100, gamma=1, kernel=sigmoid; total time=   0.1s\n",
      "[CV] END .......................C=100, gamma=0.1, kernel=rbf; total time=   0.1s\n",
      "[CV] END .......................C=100, gamma=0.1, kernel=rbf; total time=   0.1s\n",
      "[CV] END .......................C=100, gamma=0.1, kernel=rbf; total time=   0.1s\n",
      "[CV] END .......................C=100, gamma=0.1, kernel=rbf; total time=   0.1s\n",
      "[CV] END .......................C=100, gamma=0.1, kernel=rbf; total time=   0.1s\n",
      "[CV] END ......................C=100, gamma=0.1, kernel=poly; total time=   0.0s\n",
      "[CV] END ......................C=100, gamma=0.1, kernel=poly; total time=   0.0s\n",
      "[CV] END ......................C=100, gamma=0.1, kernel=poly; total time=   0.0s\n",
      "[CV] END ......................C=100, gamma=0.1, kernel=poly; total time=   0.0s\n",
      "[CV] END ......................C=100, gamma=0.1, kernel=poly; total time=   0.0s\n",
      "[CV] END ...................C=100, gamma=0.1, kernel=sigmoid; total time=   0.1s\n"
     ]
    },
    {
     "name": "stdout",
     "output_type": "stream",
     "text": [
      "[CV] END ...................C=100, gamma=0.1, kernel=sigmoid; total time=   0.1s\n",
      "[CV] END ...................C=100, gamma=0.1, kernel=sigmoid; total time=   0.1s\n",
      "[CV] END ...................C=100, gamma=0.1, kernel=sigmoid; total time=   0.1s\n",
      "[CV] END ...................C=100, gamma=0.1, kernel=sigmoid; total time=   0.1s\n",
      "[CV] END ......................C=100, gamma=0.01, kernel=rbf; total time=   0.1s\n",
      "[CV] END ......................C=100, gamma=0.01, kernel=rbf; total time=   0.1s\n",
      "[CV] END ......................C=100, gamma=0.01, kernel=rbf; total time=   0.1s\n",
      "[CV] END ......................C=100, gamma=0.01, kernel=rbf; total time=   0.1s\n",
      "[CV] END ......................C=100, gamma=0.01, kernel=rbf; total time=   0.1s\n",
      "[CV] END .....................C=100, gamma=0.01, kernel=poly; total time=   0.0s\n",
      "[CV] END .....................C=100, gamma=0.01, kernel=poly; total time=   0.0s\n",
      "[CV] END .....................C=100, gamma=0.01, kernel=poly; total time=   0.0s\n",
      "[CV] END .....................C=100, gamma=0.01, kernel=poly; total time=   0.0s\n",
      "[CV] END .....................C=100, gamma=0.01, kernel=poly; total time=   0.0s\n",
      "[CV] END ..................C=100, gamma=0.01, kernel=sigmoid; total time=   0.1s\n",
      "[CV] END ..................C=100, gamma=0.01, kernel=sigmoid; total time=   0.1s\n",
      "[CV] END ..................C=100, gamma=0.01, kernel=sigmoid; total time=   0.1s\n",
      "[CV] END ..................C=100, gamma=0.01, kernel=sigmoid; total time=   0.1s\n",
      "[CV] END ..................C=100, gamma=0.01, kernel=sigmoid; total time=   0.1s\n",
      "[CV] END .....................C=100, gamma=0.001, kernel=rbf; total time=   0.0s\n",
      "[CV] END .....................C=100, gamma=0.001, kernel=rbf; total time=   0.0s\n",
      "[CV] END .....................C=100, gamma=0.001, kernel=rbf; total time=   0.0s\n",
      "[CV] END .....................C=100, gamma=0.001, kernel=rbf; total time=   0.0s\n",
      "[CV] END .....................C=100, gamma=0.001, kernel=rbf; total time=   0.1s\n",
      "[CV] END ....................C=100, gamma=0.001, kernel=poly; total time=   0.0s\n",
      "[CV] END ....................C=100, gamma=0.001, kernel=poly; total time=   0.0s\n",
      "[CV] END ....................C=100, gamma=0.001, kernel=poly; total time=   0.0s\n",
      "[CV] END ....................C=100, gamma=0.001, kernel=poly; total time=   0.0s\n",
      "[CV] END ....................C=100, gamma=0.001, kernel=poly; total time=   0.0s\n",
      "[CV] END .................C=100, gamma=0.001, kernel=sigmoid; total time=   0.0s\n",
      "[CV] END .................C=100, gamma=0.001, kernel=sigmoid; total time=   0.0s\n",
      "[CV] END .................C=100, gamma=0.001, kernel=sigmoid; total time=   0.0s\n",
      "[CV] END .................C=100, gamma=0.001, kernel=sigmoid; total time=   0.0s\n",
      "[CV] END .................C=100, gamma=0.001, kernel=sigmoid; total time=   0.0s\n",
      "Best: 0.991105 using {'C': 0.1, 'gamma': 1, 'kernel': 'poly'}\n",
      "0.201564 (0.127579) with: {'C': 0.1, 'gamma': 1, 'kernel': 'rbf'}\n",
      "0.991105 (0.005662) with: {'C': 0.1, 'gamma': 1, 'kernel': 'poly'}\n",
      "0.101341 (0.002412) with: {'C': 0.1, 'gamma': 1, 'kernel': 'sigmoid'}\n",
      "0.102446 (0.004340) with: {'C': 0.1, 'gamma': 0.1, 'kernel': 'rbf'}\n",
      "0.991105 (0.005662) with: {'C': 0.1, 'gamma': 0.1, 'kernel': 'poly'}\n",
      "0.101341 (0.002412) with: {'C': 0.1, 'gamma': 0.1, 'kernel': 'sigmoid'}\n",
      "0.169292 (0.084892) with: {'C': 0.1, 'gamma': 0.01, 'kernel': 'rbf'}\n",
      "0.991105 (0.005662) with: {'C': 0.1, 'gamma': 0.01, 'kernel': 'poly'}\n",
      "0.106915 (0.009048) with: {'C': 0.1, 'gamma': 0.01, 'kernel': 'sigmoid'}\n",
      "0.943228 (0.016220) with: {'C': 0.1, 'gamma': 0.001, 'kernel': 'rbf'}\n",
      "0.991105 (0.005662) with: {'C': 0.1, 'gamma': 0.001, 'kernel': 'poly'}\n",
      "0.155854 (0.081902) with: {'C': 0.1, 'gamma': 0.001, 'kernel': 'sigmoid'}\n",
      "0.181564 (0.099694) with: {'C': 1, 'gamma': 1, 'kernel': 'rbf'}\n",
      "0.991105 (0.005662) with: {'C': 1, 'gamma': 1, 'kernel': 'poly'}\n",
      "0.101341 (0.002412) with: {'C': 1, 'gamma': 1, 'kernel': 'sigmoid'}\n",
      "0.105785 (0.008539) with: {'C': 1, 'gamma': 0.1, 'kernel': 'rbf'}\n",
      "0.991105 (0.005662) with: {'C': 1, 'gamma': 0.1, 'kernel': 'poly'}\n",
      "0.101341 (0.002412) with: {'C': 1, 'gamma': 0.1, 'kernel': 'sigmoid'}\n",
      "0.852017 (0.047499) with: {'C': 1, 'gamma': 0.01, 'kernel': 'rbf'}\n",
      "0.991105 (0.005662) with: {'C': 1, 'gamma': 0.01, 'kernel': 'poly'}\n",
      "0.114705 (0.017848) with: {'C': 1, 'gamma': 0.01, 'kernel': 'sigmoid'}\n",
      "0.989994 (0.007367) with: {'C': 1, 'gamma': 0.001, 'kernel': 'rbf'}\n",
      "0.991105 (0.005662) with: {'C': 1, 'gamma': 0.001, 'kernel': 'poly'}\n",
      "0.620273 (0.030824) with: {'C': 1, 'gamma': 0.001, 'kernel': 'sigmoid'}\n",
      "0.181564 (0.099694) with: {'C': 10, 'gamma': 1, 'kernel': 'rbf'}\n",
      "0.991105 (0.005662) with: {'C': 10, 'gamma': 1, 'kernel': 'poly'}\n",
      "0.101341 (0.002412) with: {'C': 10, 'gamma': 1, 'kernel': 'sigmoid'}\n",
      "0.106903 (0.008872) with: {'C': 10, 'gamma': 0.1, 'kernel': 'rbf'}\n",
      "0.991105 (0.005662) with: {'C': 10, 'gamma': 0.1, 'kernel': 'poly'}\n",
      "0.101341 (0.002412) with: {'C': 10, 'gamma': 0.1, 'kernel': 'sigmoid'}\n",
      "0.863135 (0.039919) with: {'C': 10, 'gamma': 0.01, 'kernel': 'rbf'}\n",
      "0.991105 (0.005662) with: {'C': 10, 'gamma': 0.01, 'kernel': 'poly'}\n",
      "0.112483 (0.015193) with: {'C': 10, 'gamma': 0.01, 'kernel': 'sigmoid'}\n",
      "0.989994 (0.007367) with: {'C': 10, 'gamma': 0.001, 'kernel': 'rbf'}\n",
      "0.991105 (0.005662) with: {'C': 10, 'gamma': 0.001, 'kernel': 'poly'}\n",
      "0.638163 (0.032385) with: {'C': 10, 'gamma': 0.001, 'kernel': 'sigmoid'}\n",
      "0.181564 (0.099694) with: {'C': 100, 'gamma': 1, 'kernel': 'rbf'}\n",
      "0.991105 (0.005662) with: {'C': 100, 'gamma': 1, 'kernel': 'poly'}\n",
      "0.101341 (0.002412) with: {'C': 100, 'gamma': 1, 'kernel': 'sigmoid'}\n",
      "0.106903 (0.008872) with: {'C': 100, 'gamma': 0.1, 'kernel': 'rbf'}\n",
      "0.991105 (0.005662) with: {'C': 100, 'gamma': 0.1, 'kernel': 'poly'}\n",
      "0.101341 (0.002412) with: {'C': 100, 'gamma': 0.1, 'kernel': 'sigmoid'}\n",
      "0.863135 (0.039919) with: {'C': 100, 'gamma': 0.01, 'kernel': 'rbf'}\n",
      "0.991105 (0.005662) with: {'C': 100, 'gamma': 0.01, 'kernel': 'poly'}\n",
      "0.114705 (0.017848) with: {'C': 100, 'gamma': 0.01, 'kernel': 'sigmoid'}\n",
      "0.989994 (0.007367) with: {'C': 100, 'gamma': 0.001, 'kernel': 'rbf'}\n",
      "0.991105 (0.005662) with: {'C': 100, 'gamma': 0.001, 'kernel': 'poly'}\n",
      "0.569025 (0.013944) with: {'C': 100, 'gamma': 0.001, 'kernel': 'sigmoid'}\n"
     ]
    }
   ],
   "source": [
    "kfold = StratifiedKFold(n_splits=5, shuffle=True, random_state=7)\n",
    "\n",
    "param_grid = {'C': [0.1,1, 10, 100], 'gamma': [1,0.1,0.01,0.001],'kernel': ['rbf', 'poly', 'sigmoid']}\n",
    "grid_search = GridSearchCV(svm.SVC(),param_grid,refit=True,verbose=2, cv=kfold)\n",
    "grid_result = grid_search.fit(X_train, y_train)\n",
    "\n",
    "print(\"Best: %f using %s\" % (grid_result.best_score_, grid_result.best_params_))\n",
    "means = grid_result.cv_results_['mean_test_score']\n",
    "stds = grid_result.cv_results_['std_test_score']\n",
    "params = grid_result.cv_results_['params']\n",
    "\n",
    "for mean, stdev, param in zip(means, stds, params):\n",
    "    print(\"%f (%f) with: %r\" % (mean, stdev, param))"
   ]
  },
  {
   "cell_type": "code",
   "execution_count": 42,
   "metadata": {},
   "outputs": [
    {
     "name": "stdout",
     "output_type": "stream",
     "text": [
      "SVC(C=0.1, gamma=1, kernel='poly')\n"
     ]
    }
   ],
   "source": [
    "print(grid_search.best_estimator_)\n",
    "grid_predictions = grid_search.predict(X_test)"
   ]
  },
  {
   "cell_type": "markdown",
   "metadata": {},
   "source": [
    "## CV Results"
   ]
  },
  {
   "cell_type": "code",
   "execution_count": 43,
   "metadata": {},
   "outputs": [
    {
     "name": "stdout",
     "output_type": "stream",
     "text": [
      "              precision    recall  f1-score   support\n",
      "\n",
      "           0       0.99      0.98      0.98        88\n",
      "           1       0.99      0.92      0.95        91\n",
      "           2       1.00      0.97      0.98        86\n",
      "           3       0.94      0.89      0.92        91\n",
      "           4       0.99      0.96      0.97        92\n",
      "           5       0.93      0.97      0.95        91\n",
      "           6       0.98      0.99      0.98        91\n",
      "           7       0.97      0.98      0.97        89\n",
      "           8       0.91      0.97      0.94        88\n",
      "           9       0.88      0.95      0.91        92\n",
      "\n",
      "    accuracy                           0.96       899\n",
      "   macro avg       0.96      0.96      0.96       899\n",
      "weighted avg       0.96      0.96      0.96       899\n",
      "\n"
     ]
    }
   ],
   "source": [
    "print(classification_report(y_test,grid_predictions))"
   ]
  },
  {
   "cell_type": "markdown",
   "metadata": {},
   "source": [
    "The model already started with a good accurcy, but it didn't raised up with great parameters, may the fact the wrongly predicted data could have some kind of alteration in the image. Plotting the wrongly predicted values could help us understand more why we couldn't get a better result."
   ]
  },
  {
   "cell_type": "markdown",
   "metadata": {},
   "source": [
    "# Plotting the wrong predicted values"
   ]
  },
  {
   "cell_type": "code",
   "execution_count": 104,
   "metadata": {},
   "outputs": [
    {
     "name": "stdout",
     "output_type": "stream",
     "text": [
      "has been classified as  9 and should be  5\n",
      "has been classified as  9 and should be  5\n",
      "has been classified as  5 and should be  7\n",
      "has been classified as  9 and should be  4\n",
      "has been classified as  8 and should be  7\n",
      "has been classified as  7 and should be  3\n",
      "has been classified as  9 and should be  3\n",
      "has been classified as  3 and should be  8\n",
      "has been classified as  8 and should be  1\n",
      "has been classified as  5 and should be  8\n",
      "has been classified as  8 and should be  1\n",
      "has been classified as  9 and should be  1\n",
      "has been classified as  3 and should be  2\n",
      "has been classified as  6 and should be  5\n",
      "has been classified as  3 and should be  2\n",
      "has been classified as  9 and should be  1\n",
      "has been classified as  9 and should be  1\n",
      "has been classified as  9 and should be  1\n",
      "has been classified as  9 and should be  1\n",
      "has been classified as  3 and should be  9\n",
      "has been classified as  7 and should be  8\n",
      "has been classified as  1 and should be  6\n",
      "has been classified as  7 and should be  9\n",
      "has been classified as  4 and should be  0\n",
      "has been classified as  5 and should be  9\n",
      "has been classified as  6 and should be  0\n",
      "has been classified as  0 and should be  2\n",
      "has been classified as  8 and should be  3\n",
      "has been classified as  9 and should be  4\n",
      "has been classified as  9 and should be  4\n",
      "has been classified as  3 and should be  9\n",
      "has been classified as  9 and should be  4\n",
      "has been classified as  5 and should be  9\n",
      "has been classified as  8 and should be  3\n",
      "has been classified as  5 and should be  3\n",
      "has been classified as  8 and should be  3\n",
      "has been classified as  8 and should be  3\n",
      "has been classified as  5 and should be  3\n",
      "has been classified as  8 and should be  3\n",
      "has been classified as  5 and should be  3\n"
     ]
    }
   ],
   "source": [
    "wrong = []\n",
    "wrong_x = []\n",
    "for input, prediction, label in zip(X_test, grid_predictions, y_test):\n",
    "    if prediction != label:\n",
    "        wrong_x.append(input)\n",
    "        wrong.append(prediction)\n",
    "        print('has been classified as ', prediction, 'and should be ', label) "
   ]
  },
  {
   "cell_type": "code",
   "execution_count": 102,
   "metadata": {},
   "outputs": [
    {
     "data": {
      "image/png": "[encoded data removed]",
      "text/plain": [
       "<Figure size 720x576 with 40 Axes>"
      ]
     },
     "metadata": {},
     "output_type": "display_data"
    }
   ],
   "source": [
    "fig = plt.figure(figsize=(10, 8))  # figure size in inches\n",
    "fig.subplots_adjust(left=0, right=1, bottom=0, top=1, hspace=0.05, wspace=0.05)\n",
    "\n",
    "for i, image, prediction in zip(range(40), wrong_x, wrong):\n",
    "    ax = fig.add_subplot(5, 8, i + 1, xticks=[], yticks=[])\n",
    "    ax.set_axis_off()\n",
    "    image = image.reshape(8, 8)\n",
    "    ax.imshow(image, cmap=plt.cm.binary, interpolation='nearest')\n",
    "    # label the image with the target value\n",
    "    ax.set_title(f\"Prediction: {prediction}\")\n",
    "    \n",
    "plt.show()"
   ]
  },
  {
   "cell_type": "code",
   "execution_count": null,
   "metadata": {},
   "outputs": [],
   "source": []
  }
 ],
 "metadata": {
  "environment": {
   "name": "common-cpu.m54",
   "type": "gcloud",
   "uri": "gcr.io/deeplearning-platform-release/base-cpu:m54"
  },
  "kernelspec": {
   "display_name": "Python 3 (ipykernel)",
   "language": "python",
   "name": "python3"
  },
  "language_info": {
   "codemirror_mode": {
    "name": "ipython",
    "version": 3
   },
   "file_extension": ".py",
   "mimetype": "text/x-python",
   "name": "python",
   "nbconvert_exporter": "python",
   "pygments_lexer": "ipython3",
   "version": "3.9.7"
  }
 },
 "nbformat": 4,
 "nbformat_minor": 4
}
